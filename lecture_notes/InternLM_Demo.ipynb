{
 "cells": [
  {
   "cell_type": "markdown",
   "metadata": {},
   "source": [
    "# Deploy InternLM2-Chat-1.8B"
   ]
  },
  {
   "cell_type": "markdown",
   "metadata": {},
   "source": [
    "https://github.com/InternLM/Tutorial/blob/camp2/helloworld/hello_world.md"
   ]
  },
  {
   "cell_type": "markdown",
   "metadata": {},
   "source": [
    "### Add Machine\n",
    "- https://studio.intern-ai.org.cn/console/instance/\n",
    "- Mirror: Cuda11.7-Conda\n",
    "- GPU: 10% A100*1"
   ]
  },
  {
   "cell_type": "markdown",
   "metadata": {},
   "source": [
    "### Setup Environment (under Jupyter Lab terminal)\n",
    "###### Create a virtual environment, naming it as demo, activate the environment and install pytorch, torchversion, torchaudio, pytorch-cuda\n",
    "- studio-conda -o internlm-base -t demo\n",
    "\n",
    "###### Install packages in the venv\n",
    "- conda activate demo\n",
    "- pip install huggingface-hub==0.17.3\n",
    "- pip install transformers==4.34 \n",
    "- pip install psutil==5.9.8\n",
    "- pip install accelerate==0.24.1\n",
    "- pip install streamlit==1.32.2 \n",
    "- pip install matplotlib==3.8.3 \n",
    "- pip install modelscope==1.9.5\n",
    "- pip install sentencepiece==0.1.99\n",
    "\n",
    "###### Create repository, create emtpy python file cli_demo.py and download_mini.py\n",
    "- mkdir -p /root/demo\n",
    "- touch /root/demo/cli_demo.py\n",
    "- touch /root/demo/download_mini.py\n",
    "- cd /root/demo\n",
    "\n",
    "###### Edit download_mini.py and cli_demo.py\n",
    "- python /root/demo/download_mini.py\n",
    "- python /root/demo/cli_demo.py"
   ]
  },
  {
   "cell_type": "markdown",
   "metadata": {},
   "source": [
    "### Output\n",
    "![Alt Text](../images/lecture_internLM_demo_pic.png)"
   ]
  },
  {
   "cell_type": "code",
   "execution_count": null,
   "metadata": {},
   "outputs": [],
   "source": []
  }
 ],
 "metadata": {
  "kernelspec": {
   "display_name": "Python 3",
   "language": "python",
   "name": "python3"
  },
  "language_info": {
   "codemirror_mode": {
    "name": "ipython",
    "version": 3
   },
   "file_extension": ".py",
   "mimetype": "text/x-python",
   "name": "python",
   "nbconvert_exporter": "python",
   "pygments_lexer": "ipython3",
   "version": "3.8.8"
  }
 },
 "nbformat": 4,
 "nbformat_minor": 4
}
