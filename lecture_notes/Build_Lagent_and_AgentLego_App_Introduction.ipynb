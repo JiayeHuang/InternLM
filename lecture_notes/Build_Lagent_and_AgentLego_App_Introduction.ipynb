{
 "cells": [
  {
   "cell_type": "markdown",
   "metadata": {},
   "source": [
    "# Limitations of LLM\n",
    "- Illusions: generate fake information\n",
    "- Timeliness: can't return the most up-to-date information\n",
    "- Accountability: potential wrong output for complicated tasks\n",
    "\n",
    "# Intelligent agent\n",
    "- Brain: to memory, to think and to make decisions\n",
    "- Perception: to perceive the multimodal information in the environment\n",
    "- Action: to take actions to influence the environment or to achieve its goal\n",
    "\n",
    "# Classic agent paradigms\n",
    "### AutoGPT\n",
    "- The execution agent takes user's input, sending it to memory for context and another agent. Loop the process till get the result.\n",
    "![alt text](../images/agent_pic1.png)\n",
    "\n",
    "### ReWoo\n",
    "- Slice the user's input into separate plans, and solve the task given provided plans and evidence\n",
    "\n",
    "### ReAct  (Reasoning and Acting)\n",
    "- Given the unser's input, the agent reasons processes to understand the current situation and decide the next action, whether to conduct another calc or end and send out the result."
   ]
  },
  {
   "cell_type": "markdown",
   "metadata": {},
   "source": [
    "# Lagent and AgentLego\n",
    "- Lagent: a lightweight open-source framework to efficiently build LLM based intelligent agent. It supports multiple agent paradigms such as autoGPT, ReWoo, ReAct, and multiple tools such as Google search and Python executor.\n",
    "- AgentLego: a multimodal toolkit, which allows user to extend custom tools and compose their own intelligent agent. It supports multiple intelligent framework such as Lagent, LangChain and Transformers Agents.\n",
    "- Lagent could call functions which are supported by AgentLego components."
   ]
  },
  {
   "cell_type": "markdown",
   "metadata": {},
   "source": [
    "# Project\n",
    "https://github.com/InternLM/Tutorial/blob/camp2/agent/README.md\n",
    "### Virtual machine environment\n",
    "- GPU: 30%A100\n",
    "- Mirror: Cuda12.2-Conda\n",
    "\n",
    "### Setup environment\n",
    "- Download and activate agent environment\n",
    "- Install Lagent and AgentLego\n",
    "- Install LmDeploy\n",
    "\n",
    "### Web demo with Lagent\n",
    "- Start the api-server via lmdeploy\n",
    "![alt text](../images/agent_hw_pic1.png)\n",
    "- Start lagent web demo\n",
    "![alt text](../images/agent_hw_pic2.png)\n",
    "- Map the ports for LMDeploy api_server and Lagent Web Demo to the local machine\n",
    "![alt text](../images/agent_hw_pic3.png)\n",
    "- Customize toolkit with Lagent\n",
    "    - Inherite from class BaseAction\n",
    "    - Implement a simple run method for a tool or to implement the functionality of each sub-tool within a toolkit\n",
    "    - The simple run method can be decorated with tool_api, the functionality of each sub-tool within a toolkit must be decorated with tool_api\n",
    "\n",
    "### AgentLego\n",
    "- Install the dependencies required for running an object detection tool\n",
    "![alt text](../images/agent_hw_pic4.png)\n",
    "- Start the api-server via lmdeploy\n",
    "- Start AgentLego Web UI\n",
    "- Map the ports for LMDeploy api_server and AgentLego Web UI to the local machine\n",
    "![alt text](../images/agent_hw_pic5.png)\n",
    "- Customize AgentLego toolkit\n",
    "    - Inherite from class BaseTool\n",
    "    - Edit attribute default_desc\n",
    "    - Overload setup method and apply method"
   ]
  }
 ],
 "metadata": {
  "kernelspec": {
   "display_name": "Python 3",
   "language": "python",
   "name": "python3"
  },
  "language_info": {
   "codemirror_mode": {
    "name": "ipython",
    "version": 3
   },
   "file_extension": ".py",
   "mimetype": "text/x-python",
   "name": "python",
   "nbconvert_exporter": "python",
   "pygments_lexer": "ipython3",
   "version": "3.8.8"
  }
 },
 "nbformat": 4,
 "nbformat_minor": 4
}
